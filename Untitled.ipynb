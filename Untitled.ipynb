{
 "cells": [
  {
   "cell_type": "code",
   "execution_count": 3,
   "metadata": {
    "collapsed": true
   },
   "outputs": [],
   "source": [
    "%matplotlib inline\n",
    "import numpy as np;\n",
    "import matplotlib.pyplot as plt;\n",
    "N = 100;\n",
    "eta = 0.1;\n",
    "beta = 0.1;\n",
    "xi = 0.8;\n",
    "alpha = 3.8;"
   ]
  },
  {
   "cell_type": "code",
   "execution_count": 9,
   "metadata": {},
   "outputs": [
    {
     "data": {
      "image/png": "[encoded data removed]",
      "text/plain": [
       "<matplotlib.figure.Figure at 0x106374a10>"
      ]
     },
     "metadata": {},
     "output_type": "display_data"
    }
   ],
   "source": [
    "def g(w, x): # the internal function\n",
    "    return w*x;\n",
    "def train(w, x, y): # w is the parameter, and x is the input\n",
    "    _y = g(w, x);\n",
    "    w = update_param(w,x,y-_y);\n",
    "    return [_y,w];\n",
    "xs = np.random.rand(N) + 0.001;\n",
    "ys = xs*alpha;\n",
    "dys = np.zeros(N);\n",
    "############# update rule 1 ###########\n",
    "def update_param(w, x, dy):\n",
    "        return w + beta * dy/x;\n",
    "w = 0;\n",
    "for i in xrange(1,N):\n",
    "    res = train(w, xs[i], ys[i])\n",
    "    dys[i] = ys[i] - res[0];\n",
    "    w = res[1];\n",
    "plt.plot(xrange(N),dys,'r-');\n",
    "plt.show();"
   ]
  },
  {
   "cell_type": "code",
   "execution_count": 29,
   "metadata": {},
   "outputs": [
    {
     "name": "stdout",
     "output_type": "stream",
     "text": [
      "False\n"
     ]
    },
    {
     "data": {
      "image/png": "[encoded data removed]",
      "text/plain": [
       "<matplotlib.figure.Figure at 0x10b2fd790>"
      ]
     },
     "metadata": {},
     "output_type": "display_data"
    }
   ],
   "source": [
    "%matplotlib inline\n",
    "import numpy as np;\n",
    "import matplotlib.pyplot as plt\n",
    "N = 1000\n",
    "eta = 0.1\n",
    "beta = 0.1\n",
    "xi = 0.8\n",
    "alpha_max = 0.99\n",
    "DIV=10\n",
    "########################################\n",
    "def g_plus(w, x): # the internal function\n",
    "    return min( max( (x-w)/(1-w), 0 ), 1 );\n",
    "def g_minus(w, x): # the internal function\n",
    "    return max( min( (w-x)/(1-w), 0 ), -1 );\n",
    "def norm(x):\n",
    "    mn = x.min()\n",
    "    mx = x.max()\n",
    "    d = (mx-mn)*1.0/DIV\n",
    "    if mn == mx:\n",
    "        return x*0.0+1.0\n",
    "    return (x+d-mn)/(mx+d-mn)\n",
    "##########################################\n",
    "class FilterGroup: # Filters are in 3-dimension\n",
    "    w = 0 # width\n",
    "    h = 0 # height\n",
    "    d = 0 # depth of filter\n",
    "    n = 0 # number of filters in a group\n",
    "    c = [] # connection parameter vector\n",
    "    a = [] # activation parameter vector\n",
    "class LayerGroup: # LayerGroups are in 3-dimension\n",
    "    w = 0; # width\n",
    "    h = 0; # height\n",
    "    n = 0; # number of layer in a group\n",
    "    v = []; # activation value of neurons(w*h*n)\n",
    "class Net:\n",
    "    '''\n",
    "    class network is a data structure for describing \n",
    "    a neural network, containing mostly its neural\n",
    "    layers and neural connections.\n",
    "    '''\n",
    "    m_in_dim = []\n",
    "    m_filter_groups = []\n",
    "    m_layer_groups = []\n",
    "    m_filter_connections = []\n",
    "    ###############################\n",
    "    def setInputDim(self, in_dim):\n",
    "        _has_err = False\n",
    "        if len(in_dim) == 3:\n",
    "            if in_dim[0]>0 and in_dim[1]>0 and in_dim[2]>0:\n",
    "                self.m_in_dim = in_dim\n",
    "            else:\n",
    "                _has_err = True\n",
    "        else:\n",
    "            _has_err = True\n",
    "        if _has_err:\n",
    "            raise NameError('bad input dim')\n",
    "        _lg = LayerGroup()\n",
    "        _lg.w = self.m_in_dim[0]\n",
    "        _lg.h = self.m_in_dim[1]\n",
    "        _lg.n = self.m_in_dim[2]\n",
    "        _lg.v = []\n",
    "        self.m_layer_groups.append(_lg)\n",
    "    ########################################\n",
    "    def addFilterGroup(self, filter_dim, num_of_filter):\n",
    "        # check if input layer is set up\n",
    "        if self.m_in_dim == []:\n",
    "            raise NameError('input dimension not set yet!')\n",
    "        _has_err = False\n",
    "        if len(filter_dim) == 2:\n",
    "            if filter_dim[0]<=0 or filter_dim[1]<=0:\n",
    "                _has_err = True\n",
    "        else:\n",
    "            _has_err = True\n",
    "        if num_of_filter<=0:\n",
    "            _has_err = True\n",
    "        if _has_err:\n",
    "            raise NameError('bad filter dim')\n",
    "        _fg = FilterGroup()\n",
    "        _fg.w = filter_dim[0]\n",
    "        _fg.h = filter_dim[1]\n",
    "        _fg.d = self.m_layer_groups[-1].n;\n",
    "        _fg.n = num_of_filter\n",
    "        _fg.c = np.random.rand(_fg.n,_fg.d,_fg.h,_fg.w)*alpha_max\n",
    "        _fg.a = np.random.rand(_fg.n)*alpha_max\n",
    "        self.m_filter_groups.append(_fg)\n",
    "        # create layer for this filter group\n",
    "        _lg = LayerGroup()\n",
    "        _lg.w = (self.m_layer_groups[-1].w - self.m_filter_groups[-1].w + 1)\n",
    "        _lg.h = (self.m_layer_groups[-1].h - self.m_filter_groups[-1].h + 1)\n",
    "        _lg.n = self.m_filter_groups[-1].n;\n",
    "        _lg.v = np.zeros([_lg.n,_lg.h,_lg.w])\n",
    "        self.m_layer_groups.append(_lg)\n",
    "    ##############################################    \n",
    "    def destroyLayers(self):\n",
    "        for _fg in self.m_filter_groups:\n",
    "            del _fg.p\n",
    "            del _fg\n",
    "        for _lg in self.m_layer_groups:\n",
    "            del _lg.v\n",
    "            del _lg\n",
    "    def forward(self, x):\n",
    "        # feed x\n",
    "        if x.shape != self.m_in_dim:\n",
    "            raise NameError('input size does not match net input layer!')\n",
    "        self.m_layer_groups[0].v = x\n",
    "        n = len(self.m_layer_groups)\n",
    "        ############## xxxxxxxx\n",
    "        return 0;\n",
    "    def backward(self, dy):\n",
    "        return 0;\n",
    "    def train(self, x, y):\n",
    "        _y = self.forward(x);\n",
    "        self.backward(y);\n",
    "        return y-_y;\n",
    "###### set up network ######\n",
    "net = Net()\n",
    "net.setInputDim([1,1,1])\n",
    "net.addFilterGroup([1,1],1)\n",
    "######## training ##########\n",
    "xs = np.random.rand(N)\n",
    "xs = norm(xs)\n",
    "xs.sort()\n",
    "ys = -0.8*xs*xs + 0.3\n",
    "ys = norm(ys)\n",
    "dys = np.zeros(N)\n",
    "#for i in xrange(N):\n",
    "#    res = net.train(xs[i], ys[i])\n",
    "#    dys[i] = ys[i] - res;\n",
    "plt.plot(xs,ys,'r-')\n",
    "plt.show()"
   ]
  }
 ],
 "metadata": {
  "kernelspec": {
   "display_name": "Python 2",
   "language": "python",
   "name": "python2"
  },
  "language_info": {
   "codemirror_mode": {
    "name": "ipython",
    "version": 2
   },
   "file_extension": ".py",
   "mimetype": "text/x-python",
   "name": "python",
   "nbconvert_exporter": "python",
   "pygments_lexer": "ipython2",
   "version": "2.7.10"
  }
 },
 "nbformat": 4,
 "nbformat_minor": 2
}
